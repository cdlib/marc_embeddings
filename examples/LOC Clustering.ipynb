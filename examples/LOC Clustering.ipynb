{
 "cells": [
  {
   "cell_type": "code",
   "execution_count": null,
   "metadata": {},
   "outputs": [
    {
     "name": "stdout",
     "output_type": "stream",
     "text": [
      "Loaded 10000 records\n"
     ]
    }
   ],
   "source": [
    "from marc_embeddings import loc\n",
    "import itertools\n",
    "\n",
    "records = list(itertools.islice(loc.load_from_xml('../include/marc/BooksAll.part01.xml.frag_02'), 10000))\n",
    "print(\"Loaded %i records\" % len(records))"
   ]
  },
  {
   "cell_type": "code",
   "execution_count": null,
   "metadata": {
    "collapsed": true
   },
   "outputs": [],
   "source": [
    "from sklearn.pipeline import Pipeline, FeatureUnion\n",
    "from sklearn.feature_extraction.text import HashingVectorizer, TfidfTransformer\n",
    "from sklearn.cluster import AgglomerativeClustering, MiniBatchKMeans\n",
    "from sklearn.decomposition import TruncatedSVD\n",
    "from sklearn.preprocessing import Normalizer\n",
    "from sklearn.neighbors import kneighbors_graph\n",
    "from marc_embeddings import marc\n",
    "\n",
    "FIELDS = marc.select(marc.AllFields)\n",
    "\n",
    "hv = HashingVectorizer(n_features = 40000, ngram_range = (1, 2), stop_words='english')\n",
    "tfidf = TfidfTransformer()\n",
    "\n",
    "vectorizer = Pipeline([\n",
    "    ('features', FeatureUnion(\n",
    "        list(map(lambda field: (field, Pipeline([\n",
    "            ('read xml', loc.LOCTransformer([field])),\n",
    "            ('flatten', loc.FlattenTransformer()),\n",
    "            ('hash, tf-idf', Pipeline([\n",
    "                ('hash', hv),\n",
    "                ('tf-idf', tfidf)\n",
    "            ]))\n",
    "        ])), FIELDS))\n",
    "    )),\n",
    "    ('reduce dimensions', TruncatedSVD(300)),\n",
    "    ('normalize to unit value', Normalizer(copy = False))\n",
    "])\n",
    "\n",
    "X = vectorizer.fit_transform(records)"
   ]
  },
  {
   "cell_type": "code",
   "execution_count": null,
   "metadata": {},
   "outputs": [],
   "source": [
    "ward = AgglomerativeClustering(\n",
    "    linkage = 'ward',\n",
    "    n_clusters = 10,\n",
    "    connectivity = kneighbors_graph(X, n_neighbors = 8, include_self = False))\n",
    "\n",
    "kmeans = MiniBatchKMeans(\n",
    "    n_clusters = 10,\n",
    "    init = 'k-means++')\n",
    "\n",
    "model = Pipeline([\n",
    "    ('cluster', kmeans)\n",
    "])\n",
    "\n",
    "model.fit(X)"
   ]
  },
  {
   "cell_type": "code",
   "execution_count": null,
   "metadata": {},
   "outputs": [],
   "source": [
    "# Visualize the records in two dimensions with PCA, color by cluster.\n",
    "\n",
    "%matplotlib inline\n",
    "\n",
    "import matplotlib.pyplot as plt\n",
    "from sklearn.decomposition import PCA\n",
    "\n",
    "X_pca = PCA(2).fit_transform(X)\n",
    "\n",
    "plt.figure(figsize=(8, 8))\n",
    "plt.scatter(X_pca[:, 0], X_pca[:, 1], c = kmeans.labels_, cmap = 'Dark2', alpha = 0.3)"
   ]
  }
 ],
 "metadata": {
  "kernelspec": {
   "display_name": "Python 3",
   "language": "python",
   "name": "python3"
  },
  "language_info": {
   "codemirror_mode": {
    "name": "ipython",
    "version": 3
   },
   "file_extension": ".py",
   "mimetype": "text/x-python",
   "name": "python",
   "nbconvert_exporter": "python",
   "pygments_lexer": "ipython3",
   "version": "3.6.3"
  }
 },
 "nbformat": 4,
 "nbformat_minor": 2
}
