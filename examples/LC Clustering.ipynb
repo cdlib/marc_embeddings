{
 "cells": [
  {
   "cell_type": "code",
   "execution_count": null,
   "metadata": {
    "collapsed": true
   },
   "outputs": [
    {
     "name": "stdout",
     "output_type": "stream",
     "text": [
      "Loaded 1000 records.\nDone.\n"
     ]
    }
   ],
   "source": [
    "from sklearn.pipeline import Pipeline, FeatureUnion\n",
    "from sklearn.feature_extraction.text import HashingVectorizer, TfidfTransformer\n",
    "from marc_embeddings import lc, marc\n",
    "import itertools\n",
    "\n",
    "P = 1000\n",
    "N = 1000\n",
    "\n",
    "records = list(itertools.islice(lc.load_from_xml('include/marc/BooksAll.2014.part01.xml'), 0, P, int(P/N)))\n",
    "print(\"Loaded %i records.\" % len(records))\n",
    "\n",
    "FIELDS = marc.select(\n",
    "    marc.TitleRelated.TITLE_STATEMENT,\n",
    "    marc.MainEntry.PERSONAL_NAME\n",
    ")\n",
    "\n",
    "hv = HashingVectorizer(ngram_range=(1, 2), stop_words='english')\n",
    "tfidf = TfidfTransformer()\n",
    "\n",
    "vectorizer = Pipeline([\n",
    "    ('fields', FeatureUnion(\n",
    "        list(map(lambda field: (field, Pipeline([\n",
    "            ('read xml', lc.LCTransformer([field])),\n",
    "            ('flatten', lc.FlattenTransformer()),\n",
    "            ('hash, tf-idf', Pipeline([\n",
    "                ('hash', hv),\n",
    "                #('tf-idf', tfidf)\n",
    "            ]))\n",
    "        ])), FIELDS))\n",
    "    ))\n",
    "])\n",
    "\n",
    "X = vectorizer.fit_transform(records)\n",
    "print('Done.')"
   ]
  },
  {
   "cell_type": "code",
   "execution_count": 8,
   "metadata": {},
   "outputs": [
    {
     "name": "stdout",
     "output_type": "stream",
     "text": [
      "  (0, 114817)\t-0.14907119849998599\n  (0, 126699)\t0.14907119849998599\n  (0, 153918)\t0.14907119849998599\n  (0, 168408)\t0.29814239699997197\n  (0, 195258)\t-0.14907119849998599\n  (0, 269373)\t-0.14907119849998599\n  (0, 306380)\t-0.14907119849998599\n  (0, 318027)\t0.29814239699997197\n  (0, 334785)\t-0.14907119849998599\n  (0, 342790)\t0.29814239699997197\n  (0, 495083)\t0.14907119849998599\n  (0, 541244)\t0.14907119849998599\n  (0, 546876)\t0.14907119849998599\n  (0, 585123)\t0.14907119849998599\n  (0, 732722)\t-0.4472135954999579\n  (0, 733462)\t-0.14907119849998599\n  (0, 741852)\t-0.29814239699997197\n  (0, 790116)\t0.14907119849998599\n  (0, 877461)\t0.14907119849998599\n  (0, 882038)\t0.14907119849998599\n  (0, 905244)\t-0.14907119849998599\n  (0, 942212)\t0.14907119849998599\n  (0, 943745)\t-0.14907119849998599\n  (0, 978383)\t-0.14907119849998599\n  (0, 1002839)\t0.14907119849998599\n  :\t:\n  (0, 1395180)\t-0.10369516947304253\n  (0, 1431232)\t-0.10369516947304253\n  (0, 1470615)\t-0.10369516947304253\n  (0, 1475309)\t-0.10369516947304253\n  (0, 1494033)\t0.10369516947304253\n  (0, 1504008)\t-0.10369516947304253\n  (0, 1505709)\t0.10369516947304253\n  (0, 1541936)\t-0.10369516947304253\n  (0, 1589820)\t0.10369516947304253\n  (0, 1633699)\t0.10369516947304253\n  (0, 1636154)\t0.10369516947304253\n  (0, 1653637)\t-0.10369516947304253\n  (0, 1675044)\t0.20739033894608505\n  (0, 1685596)\t-0.10369516947304253\n  (0, 1751085)\t-0.10369516947304253\n  (0, 1781298)\t-0.4147806778921701\n  (0, 1790428)\t-0.3110855084191276\n  (0, 1838692)\t0.10369516947304253\n  (0, 1926037)\t0.10369516947304253\n  (0, 1953820)\t-0.10369516947304253\n  (0, 1957107)\t0.10369516947304253\n  (0, 1962354)\t-0.10369516947304253\n  (0, 1968332)\t-0.10369516947304253\n  (0, 2018135)\t-0.10369516947304253\n  (0, 2071101)\t0.10369516947304253\n"
     ]
    }
   ],
   "source": [
    "print(X[0])"
   ]
  },
  {
   "cell_type": "code",
   "execution_count": null,
   "metadata": {},
   "outputs": [],
   "source": []
  }
 ],
 "metadata": {
  "kernelspec": {
   "display_name": "Python 3",
   "language": "python",
   "name": "python3"
  },
  "language_info": {
   "codemirror_mode": {
    "name": "ipython",
    "version": 3
   },
   "file_extension": ".py",
   "mimetype": "text/x-python",
   "name": "python",
   "nbconvert_exporter": "python",
   "pygments_lexer": "ipython3",
   "version": "3.6.3"
  }
 },
 "nbformat": 4,
 "nbformat_minor": 2
}
